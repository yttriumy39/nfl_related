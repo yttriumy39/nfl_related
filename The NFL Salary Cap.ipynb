{
 "cells": [
  {
   "cell_type": "code",
   "execution_count": 3,
   "metadata": {},
   "outputs": [],
   "source": [
    "import pandas as pd"
   ]
  },
  {
   "cell_type": "markdown",
   "metadata": {},
   "source": [
    "# The NFL Salary Cap"
   ]
  },
  {
   "cell_type": "markdown",
   "metadata": {},
   "source": [
    "The NFL Salary cap is  a limit placed upon teams in the NFL that limits how much they may spend on player salaries in a a season. The total value of the salary cap is agreed between the NFL and the NFL Players association (NFLPA), the current value of the cap is 48% of the league revenue. The salary cap for the upcoming 2023 season is \\\\$224.8 million per team.\n",
    "\n",
    "Teams and their general managers spend a large amount of time putting the best roster they can together and that means setting up contracts to make est use of the sallary cap. There are lots of details and bits of wizardry around this that aren't clear to most fans. How NFL teams create cap space, why they create cap space and what the drawbacks of the GM's cap choices can be are not immediately obvious. In this workbook, using data from overthecap.com I am going to explain the major details of how player contracts and moving on from those contracts can affect the cap."
   ]
  },
  {
   "cell_type": "markdown",
   "metadata": {},
   "source": [
    "## Contracts, Cuts and Trades"
   ]
  },
  {
   "cell_type": "markdown",
   "metadata": {},
   "source": [
    "### Contracts"
   ]
  },
  {
   "cell_type": "markdown",
   "metadata": {},
   "source": [
    "All NFL contracts last a certain number of years, with the number of years being negotiated between the player and the team in the case of veteran contracts and being a set amount of time for rookie contracts (4 years plus a 5th year option for first rounders, 4 years for drafted non-first rounders, 3 years for undrafted free agents).\n",
    "\n",
    "A drafted NFL Player can only negotiate with the team that drafted them, however if they refuse to sign a contract, the best move can be for the eam that drafted them  to trade them to another team who they would sign with (this happened in 2004 when the then San Diego Chargers drafted Eli Manning before trading him to the New York Giants). If a team has not either traded or agreed a contract with the player 30 days prior to the season starting, the player cannot sign that season and will need to enter the draft next season to sign with a new team (this happened with John Elway in 1983 who refused to sign for the Baltimore Colts and was drafted the year later by the Denver Broncos).\n",
    "\n",
    "From a financial perspective an NFL contract is made up of three pieces: the signing bonus (pro-rated bonus), the base salary and the extra bonuses."
   ]
  },
  {
   "cell_type": "markdown",
   "metadata": {},
   "source": [
    "#### The signing bonus"
   ]
  },
  {
   "cell_type": "markdown",
   "metadata": {},
   "source": [
    "\n",
    "A signing bonus is paid to the player at the start of their contract and amortised in equal chunks across the length of the contract against the cap. So a player signing a 4 year contract that includes a \\\\$10 million signing bonus would receive that \\\\$10 million at signing, but against the cap it would be \\\\$2.5 million a year each of the 4 contract years."
   ]
  },
  {
   "cell_type": "code",
   "execution_count": 48,
   "metadata": {},
   "outputs": [
    {
     "data": {
      "text/html": [
       "<div>\n",
       "<style scoped>\n",
       "    .dataframe tbody tr th:only-of-type {\n",
       "        vertical-align: middle;\n",
       "    }\n",
       "\n",
       "    .dataframe tbody tr th {\n",
       "        vertical-align: top;\n",
       "    }\n",
       "\n",
       "    .dataframe thead th {\n",
       "        text-align: right;\n",
       "    }\n",
       "</style>\n",
       "<table border=\"1\" class=\"dataframe\">\n",
       "  <thead>\n",
       "    <tr style=\"text-align: right;\">\n",
       "      <th></th>\n",
       "      <th>Contract Year</th>\n",
       "      <th>Signing Bonus Against Cap</th>\n",
       "    </tr>\n",
       "  </thead>\n",
       "  <tbody>\n",
       "    <tr>\n",
       "      <th>0</th>\n",
       "      <td>2023</td>\n",
       "      <td>2500000</td>\n",
       "    </tr>\n",
       "    <tr>\n",
       "      <th>1</th>\n",
       "      <td>2024</td>\n",
       "      <td>2500000</td>\n",
       "    </tr>\n",
       "    <tr>\n",
       "      <th>2</th>\n",
       "      <td>2025</td>\n",
       "      <td>2500000</td>\n",
       "    </tr>\n",
       "    <tr>\n",
       "      <th>3</th>\n",
       "      <td>2026</td>\n",
       "      <td>2500000</td>\n",
       "    </tr>\n",
       "  </tbody>\n",
       "</table>\n",
       "</div>"
      ],
      "text/plain": [
       "   Contract Year  Signing Bonus Against Cap\n",
       "0           2023                    2500000\n",
       "1           2024                    2500000\n",
       "2           2025                    2500000\n",
       "3           2026                    2500000"
      ]
     },
     "execution_count": 48,
     "metadata": {},
     "output_type": "execute_result"
    }
   ],
   "source": [
    "years = [2023,2024,2025,2026]\n",
    "bonus = [2500000]*4\n",
    "\n",
    "df = pd.DataFrame(list(zip(years, bonus)),\n",
    "               columns =['Contract Year', 'Signing Bonus Against Cap'])\n",
    "df"
   ]
  },
  {
   "cell_type": "markdown",
   "metadata": {},
   "source": [
    "This amortisation across the years of the contract is why teams will sometimes convert base salary to a signing bonus. If our player who has a \\\\$10 million signing bonus is also earning \\\\$12 million per year in base salary their contract will looks like to below:"
   ]
  },
  {
   "cell_type": "code",
   "execution_count": 49,
   "metadata": {},
   "outputs": [
    {
     "data": {
      "text/html": [
       "<div>\n",
       "<style scoped>\n",
       "    .dataframe tbody tr th:only-of-type {\n",
       "        vertical-align: middle;\n",
       "    }\n",
       "\n",
       "    .dataframe tbody tr th {\n",
       "        vertical-align: top;\n",
       "    }\n",
       "\n",
       "    .dataframe thead th {\n",
       "        text-align: right;\n",
       "    }\n",
       "</style>\n",
       "<table border=\"1\" class=\"dataframe\">\n",
       "  <thead>\n",
       "    <tr style=\"text-align: right;\">\n",
       "      <th></th>\n",
       "      <th>Contract Year</th>\n",
       "      <th>Signing Bonus Against Cap</th>\n",
       "      <th>Base Salary</th>\n",
       "      <th>Cap Hit</th>\n",
       "    </tr>\n",
       "  </thead>\n",
       "  <tbody>\n",
       "    <tr>\n",
       "      <th>0</th>\n",
       "      <td>2023</td>\n",
       "      <td>2500000</td>\n",
       "      <td>12000000</td>\n",
       "      <td>14500000</td>\n",
       "    </tr>\n",
       "    <tr>\n",
       "      <th>1</th>\n",
       "      <td>2024</td>\n",
       "      <td>2500000</td>\n",
       "      <td>12000000</td>\n",
       "      <td>14500000</td>\n",
       "    </tr>\n",
       "    <tr>\n",
       "      <th>2</th>\n",
       "      <td>2025</td>\n",
       "      <td>2500000</td>\n",
       "      <td>12000000</td>\n",
       "      <td>14500000</td>\n",
       "    </tr>\n",
       "    <tr>\n",
       "      <th>3</th>\n",
       "      <td>2026</td>\n",
       "      <td>2500000</td>\n",
       "      <td>12000000</td>\n",
       "      <td>14500000</td>\n",
       "    </tr>\n",
       "  </tbody>\n",
       "</table>\n",
       "</div>"
      ],
      "text/plain": [
       "   Contract Year  Signing Bonus Against Cap  Base Salary   Cap Hit\n",
       "0           2023                    2500000     12000000  14500000\n",
       "1           2024                    2500000     12000000  14500000\n",
       "2           2025                    2500000     12000000  14500000\n",
       "3           2026                    2500000     12000000  14500000"
      ]
     },
     "execution_count": 49,
     "metadata": {},
     "output_type": "execute_result"
    }
   ],
   "source": [
    "df['Base Salary'] = [12000000]*4\n",
    "df['Cap Hit'] = df['Base Salary']+df['Signing Bonus Against Cap']\n",
    "df"
   ]
  },
  {
   "cell_type": "markdown",
   "metadata": {},
   "source": [
    "If in 2024 the team is looking to free up some cap space they could convert some of the guaranteed base salary for that year to a signing bonus (this is normally what is being referred to when teams restructure a contract). Lets say the team converts \\\\$9 million of base salary to signing bonus:"
   ]
  },
  {
   "cell_type": "code",
   "execution_count": 50,
   "metadata": {},
   "outputs": [],
   "source": [
    "df['Base Salary'][1] = 12000000 - 9000000\n",
    "df['Signing Bonus Against Cap'][1:4] = [2500000+3000000] * 3\n",
    "df['Cap Hit'] = df['Base Salary']+df['Signing Bonus Against Cap']\n"
   ]
  },
  {
   "cell_type": "markdown",
   "metadata": {},
   "source": [
    "The \\\\$9 million salary is split over the three remaining years of the contract adding a further \\\\$3 million per year to the signing bonus but moving \\\\$9 million out of the base salary which drops that seasons cap hit by \\\\$6 million. Moving money from the base salary to the signing bonus decreases the cap hit for that season but increases it for future seasons. The cap generally increases over time so teams can often look to push more money further out in the future, particularly when they want to make moves to sign new players."
   ]
  },
  {
   "cell_type": "markdown",
   "metadata": {},
   "source": [
    "#### The base salary"
   ]
  },
  {
   "cell_type": "markdown",
   "metadata": {},
   "source": [
    "Base salary can be fully guaranteed, partially guaranteed or not guaranteed. Guarantees can get complicated with base salary and more will be explained below."
   ]
  },
  {
   "cell_type": "markdown",
   "metadata": {},
   "source": [
    "For a veteran player (4+ years in the league) the base salary is fully guaranteed for that year if they are on the team's roster on opening day. For a non-veteran, the base salary is earned per-game (with the Bye also considered as a game). If a non-veteran is cut mid-season they do not earn the rest of the base salary for the remainder of the season and this amount will not count against the cap. For the veteran, if they are cut mid-season their full salary will count against the cap as it is considered as already earned."
   ]
  },
  {
   "cell_type": "markdown",
   "metadata": {},
   "source": [
    "Guaranteed money can come in multiple forms:\n",
    "\n",
    "-Injury Guaranteed money comes into effect if a player is released (cut) but is unable to take part in football activities or pass a physical.\n",
    "\n",
    "-Skill Guaranteed money protects a player in the case that the team does not believe the player has the requisite skills needed to play for them.\n",
    "\n",
    "-Cap Guaranteed money provides protection against a team cutting a player so they can get under the salary cap.\n",
    "\n",
    "When these options are joined together the money is considered fully guaranteed. Teams will often guarantee some years of base salary for a player, this is normally the first 2-4 years of long contracts."
   ]
  },
  {
   "cell_type": "markdown",
   "metadata": {},
   "source": [
    "#### Extra bonuses"
   ]
  },
  {
   "cell_type": "markdown",
   "metadata": {},
   "source": [
    "The extra bonuses (also known as performance incentives) are split into two pieces, the \"likely to be earned\" (LTBE) and the \"unlikely to be earned\" (UTBE). Whether an incentive is considered likely to be earned is based on the players statistical performance in the previous season.\n",
    "\n",
    "The incentives that are considered LTBE are counted against the salary cap from Week 1 of the season, whereas UTBE bonuses are only counted against the cap if they are earned. If an LTBE incentive iis not earned, it becomes a \"cap credit\" in the next season, in this way teams can carry cap over to the next season. The amount of cap that can be carried over is limited, over a 4 year period a team must spend at least 89% of the salary cap.\n",
    "\n",
    "There are also other bonuses like roster bonuses and workout bonuses that players can earn if they are still on the roster at a certain point in their contract or if they attend a certain % of pre-season workouts."
   ]
  },
  {
   "cell_type": "markdown",
   "metadata": {},
   "source": [
    "## Cuts:"
   ]
  },
  {
   "cell_type": "markdown",
   "metadata": {},
   "source": [
    "Cutting a player means either releasing them or waiving them, depending upon how long they have been in the league. A player who has been in the league for less than 4 seasons is waived, over 4 seasons they are released with the exception that players who have played over 4 years who are released midseason are waived but any other time counts as released.\n",
    "\n",
    "Players that are waived go on the \"waiver wire\" where teams can claim them, if a player is claimed from the waiver wire by a new team that new team brings them in on the terms of their current contract. If a player is not claimed off waivers they become an unrestricted free agent who can sign with any team.\n",
    "\n",
    "A released player is an unrestricted free agent once they are released. These are veterans who have played over 4 years and have been released in the early season, the off season or in pre-season."
   ]
  },
  {
   "cell_type": "markdown",
   "metadata": {},
   "source": [
    "For the cap, it doesn't matter if a player is waived or released, they look the same for cap adjustments"
   ]
  },
  {
   "cell_type": "markdown",
   "metadata": {},
   "source": [
    "The June 1st Deadline: If a player is cut before June 1st all of their future prorated money and salary guarantees go onto the cap for the current season (this value is known as the \"dead money\"). If a player is cut post June 1st the remaining guarantees fall on the cap for the next season, this can help spread out the dead money owed to a player. Lets look at what this would mean for the contract we have previously discussed. In this example the base salary is not guaranteed."
   ]
  },
  {
   "cell_type": "code",
   "execution_count": 42,
   "metadata": {},
   "outputs": [
    {
     "data": {
      "text/html": [
       "<div>\n",
       "<style scoped>\n",
       "    .dataframe tbody tr th:only-of-type {\n",
       "        vertical-align: middle;\n",
       "    }\n",
       "\n",
       "    .dataframe tbody tr th {\n",
       "        vertical-align: top;\n",
       "    }\n",
       "\n",
       "    .dataframe thead th {\n",
       "        text-align: right;\n",
       "    }\n",
       "</style>\n",
       "<table border=\"1\" class=\"dataframe\">\n",
       "  <thead>\n",
       "    <tr style=\"text-align: right;\">\n",
       "      <th></th>\n",
       "      <th>Contract Year</th>\n",
       "      <th>Signing Bonus Against Cap</th>\n",
       "      <th>Base Salary</th>\n",
       "      <th>Cap Hit</th>\n",
       "    </tr>\n",
       "  </thead>\n",
       "  <tbody>\n",
       "    <tr>\n",
       "      <th>0</th>\n",
       "      <td>2023</td>\n",
       "      <td>2500000</td>\n",
       "      <td>12000000</td>\n",
       "      <td>14500000</td>\n",
       "    </tr>\n",
       "    <tr>\n",
       "      <th>1</th>\n",
       "      <td>2024</td>\n",
       "      <td>5500000</td>\n",
       "      <td>3000000</td>\n",
       "      <td>8500000</td>\n",
       "    </tr>\n",
       "    <tr>\n",
       "      <th>2</th>\n",
       "      <td>2025</td>\n",
       "      <td>5500000</td>\n",
       "      <td>12000000</td>\n",
       "      <td>17500000</td>\n",
       "    </tr>\n",
       "    <tr>\n",
       "      <th>3</th>\n",
       "      <td>2026</td>\n",
       "      <td>5500000</td>\n",
       "      <td>12000000</td>\n",
       "      <td>17500000</td>\n",
       "    </tr>\n",
       "  </tbody>\n",
       "</table>\n",
       "</div>"
      ],
      "text/plain": [
       "   Contract Year  Signing Bonus Against Cap  Base Salary   Cap Hit\n",
       "0           2023                    2500000     12000000  14500000\n",
       "1           2024                    5500000      3000000   8500000\n",
       "2           2025                    5500000     12000000  17500000\n",
       "3           2026                    5500000     12000000  17500000"
      ]
     },
     "execution_count": 42,
     "metadata": {},
     "output_type": "execute_result"
    }
   ],
   "source": [
    "df"
   ]
  },
  {
   "cell_type": "markdown",
   "metadata": {},
   "source": [
    "This is the contract as is, but lets imagine that this player gets cut between the 2024 and 2025 seasons, prior to June 1st. The \\\\$11 million of guaranteed money from the prorated bonus accelerates and all falls on the 2025 year as seen below:"
   ]
  },
  {
   "cell_type": "code",
   "execution_count": 46,
   "metadata": {},
   "outputs": [
    {
     "data": {
      "text/html": [
       "<div>\n",
       "<style scoped>\n",
       "    .dataframe tbody tr th:only-of-type {\n",
       "        vertical-align: middle;\n",
       "    }\n",
       "\n",
       "    .dataframe tbody tr th {\n",
       "        vertical-align: top;\n",
       "    }\n",
       "\n",
       "    .dataframe thead th {\n",
       "        text-align: right;\n",
       "    }\n",
       "</style>\n",
       "<table border=\"1\" class=\"dataframe\">\n",
       "  <thead>\n",
       "    <tr style=\"text-align: right;\">\n",
       "      <th></th>\n",
       "      <th>Contract Year</th>\n",
       "      <th>Signing Bonus Against Cap</th>\n",
       "      <th>Base Salary</th>\n",
       "      <th>Cap Hit</th>\n",
       "      <th>Dead Money</th>\n",
       "    </tr>\n",
       "  </thead>\n",
       "  <tbody>\n",
       "    <tr>\n",
       "      <th>0</th>\n",
       "      <td>2023</td>\n",
       "      <td>2500000</td>\n",
       "      <td>12000000</td>\n",
       "      <td>14500000</td>\n",
       "      <td>0</td>\n",
       "    </tr>\n",
       "    <tr>\n",
       "      <th>1</th>\n",
       "      <td>2024</td>\n",
       "      <td>5500000</td>\n",
       "      <td>3000000</td>\n",
       "      <td>8500000</td>\n",
       "      <td>0</td>\n",
       "    </tr>\n",
       "    <tr>\n",
       "      <th>2</th>\n",
       "      <td>2025</td>\n",
       "      <td>0</td>\n",
       "      <td>0</td>\n",
       "      <td>11000000</td>\n",
       "      <td>11000000</td>\n",
       "    </tr>\n",
       "    <tr>\n",
       "      <th>3</th>\n",
       "      <td>2026</td>\n",
       "      <td>0</td>\n",
       "      <td>0</td>\n",
       "      <td>0</td>\n",
       "      <td>0</td>\n",
       "    </tr>\n",
       "  </tbody>\n",
       "</table>\n",
       "</div>"
      ],
      "text/plain": [
       "   Contract Year  Signing Bonus Against Cap  Base Salary   Cap Hit  Dead Money\n",
       "0           2023                    2500000     12000000  14500000           0\n",
       "1           2024                    5500000      3000000   8500000           0\n",
       "2           2025                          0            0  11000000    11000000\n",
       "3           2026                          0            0         0           0"
      ]
     },
     "execution_count": 46,
     "metadata": {},
     "output_type": "execute_result"
    }
   ],
   "source": [
    "df_cut1 = df\n",
    "df_cut1.loc[2:4,['Signing Bonus Against Cap', 'Base Salary']] = 0\n",
    "df_cut1['Dead Money']= [0,0,11000000,0]\n",
    "df_cut1['Cap Hit'] = df_cut1['Base Salary']+df_cut1['Signing Bonus Against Cap']+df_cut1['Dead Money']\n",
    "df_cut1"
   ]
  },
  {
   "cell_type": "markdown",
   "metadata": {},
   "source": [
    "However if we designate this as a post-June 1st contract cut:"
   ]
  },
  {
   "cell_type": "code",
   "execution_count": 47,
   "metadata": {},
   "outputs": [
    {
     "data": {
      "text/html": [
       "<div>\n",
       "<style scoped>\n",
       "    .dataframe tbody tr th:only-of-type {\n",
       "        vertical-align: middle;\n",
       "    }\n",
       "\n",
       "    .dataframe tbody tr th {\n",
       "        vertical-align: top;\n",
       "    }\n",
       "\n",
       "    .dataframe thead th {\n",
       "        text-align: right;\n",
       "    }\n",
       "</style>\n",
       "<table border=\"1\" class=\"dataframe\">\n",
       "  <thead>\n",
       "    <tr style=\"text-align: right;\">\n",
       "      <th></th>\n",
       "      <th>Contract Year</th>\n",
       "      <th>Signing Bonus Against Cap</th>\n",
       "      <th>Base Salary</th>\n",
       "      <th>Cap Hit</th>\n",
       "      <th>Dead Money</th>\n",
       "    </tr>\n",
       "  </thead>\n",
       "  <tbody>\n",
       "    <tr>\n",
       "      <th>0</th>\n",
       "      <td>2023</td>\n",
       "      <td>2500000</td>\n",
       "      <td>12000000</td>\n",
       "      <td>14500000</td>\n",
       "      <td>0</td>\n",
       "    </tr>\n",
       "    <tr>\n",
       "      <th>1</th>\n",
       "      <td>2024</td>\n",
       "      <td>5500000</td>\n",
       "      <td>3000000</td>\n",
       "      <td>8500000</td>\n",
       "      <td>0</td>\n",
       "    </tr>\n",
       "    <tr>\n",
       "      <th>2</th>\n",
       "      <td>2025</td>\n",
       "      <td>0</td>\n",
       "      <td>0</td>\n",
       "      <td>5500000</td>\n",
       "      <td>5500000</td>\n",
       "    </tr>\n",
       "    <tr>\n",
       "      <th>3</th>\n",
       "      <td>2026</td>\n",
       "      <td>0</td>\n",
       "      <td>0</td>\n",
       "      <td>5500000</td>\n",
       "      <td>5500000</td>\n",
       "    </tr>\n",
       "  </tbody>\n",
       "</table>\n",
       "</div>"
      ],
      "text/plain": [
       "   Contract Year  Signing Bonus Against Cap  Base Salary   Cap Hit  Dead Money\n",
       "0           2023                    2500000     12000000  14500000           0\n",
       "1           2024                    5500000      3000000   8500000           0\n",
       "2           2025                          0            0   5500000     5500000\n",
       "3           2026                          0            0   5500000     5500000"
      ]
     },
     "execution_count": 47,
     "metadata": {},
     "output_type": "execute_result"
    }
   ],
   "source": [
    "df_cut2 = df\n",
    "df_cut2.loc[3:4,['Signing Bonus Against Cap', 'Base Salary']] = 0\n",
    "df_cut2['Dead Money']= [0,0,5500000,5500000]\n",
    "df_cut2['Cap Hit'] = df_cut1['Base Salary']+df_cut1['Signing Bonus Against Cap']+df_cut1['Dead Money']\n",
    "df_cut1"
   ]
  },
  {
   "cell_type": "markdown",
   "metadata": {},
   "source": [
    "## Trades"
   ]
  },
  {
   "cell_type": "markdown",
   "metadata": {},
   "source": [
    "The NFL is an at will employer, this means when a player is under contract with a team they can be traded to another team at any time unless the player has contract stipulations to prevent this (known as a no-trade clause)."
   ]
  },
  {
   "cell_type": "markdown",
   "metadata": {},
   "source": [
    "Players traded to new teams bring their salaries and contracts with them. This means that the new team picks up the base salary ad this will no longer be on the team that traded the players away's cap. However, the remaining pro-rated bonuses will fall against the old team in a similar way than if a player is cut, if the trade is pre June 1st the remaining pro-rated signing bonus falls against the cap for the current season if it's a post June 1st trade the team only has the standard amount of signing bonus for the current season and pays "
   ]
  },
  {
   "cell_type": "markdown",
   "metadata": {},
   "source": [
    "### Example"
   ]
  },
  {
   "cell_type": "markdown",
   "metadata": {},
   "source": [
    "Until now I've explained how trades and cuts would affect a hypothetical player but now lets use a real example, with data taken from overthecap.com.\n",
    "\n",
    "Kyler Murray is the quarterback for the Arizona Cardinals and signed a new contract in 2022, the deal was reported as a 5 year, \\\\$230.5 million deal with \\\\$160 million guaranteed. Lets have a look at that contract:"
   ]
  },
  {
   "cell_type": "code",
   "execution_count": 31,
   "metadata": {},
   "outputs": [
    {
     "data": {
      "text/html": [
       "<div>\n",
       "<style scoped>\n",
       "    .dataframe tbody tr th:only-of-type {\n",
       "        vertical-align: middle;\n",
       "    }\n",
       "\n",
       "    .dataframe tbody tr th {\n",
       "        vertical-align: top;\n",
       "    }\n",
       "\n",
       "    .dataframe thead th {\n",
       "        text-align: right;\n",
       "    }\n",
       "</style>\n",
       "<table border=\"1\" class=\"dataframe\">\n",
       "  <thead>\n",
       "    <tr style=\"text-align: right;\">\n",
       "      <th></th>\n",
       "      <th>Year</th>\n",
       "      <th>Age</th>\n",
       "      <th>Base Salary</th>\n",
       "      <th>Prorated Bonus</th>\n",
       "      <th>Roster Bonus</th>\n",
       "      <th>Per Game Roster Bonus</th>\n",
       "      <th>Workout Bonus</th>\n",
       "      <th>Guaranteed Salary</th>\n",
       "      <th>Cap Number</th>\n",
       "      <th>Cap %</th>\n",
       "    </tr>\n",
       "  </thead>\n",
       "  <tbody>\n",
       "    <tr>\n",
       "      <th>0</th>\n",
       "      <td>2022</td>\n",
       "      <td>25</td>\n",
       "      <td>$965,000</td>\n",
       "      <td>$11,704,481</td>\n",
       "      <td>$0</td>\n",
       "      <td>$0</td>\n",
       "      <td>$0</td>\n",
       "      <td>$965,000</td>\n",
       "      <td>$12,669,481</td>\n",
       "      <td>6.10%</td>\n",
       "    </tr>\n",
       "    <tr>\n",
       "      <th>1</th>\n",
       "      <td>2023</td>\n",
       "      <td>26</td>\n",
       "      <td>$2,000,000</td>\n",
       "      <td>$13,007,000</td>\n",
       "      <td>$0</td>\n",
       "      <td>$0</td>\n",
       "      <td>$1,000,000</td>\n",
       "      <td>$2,000,000</td>\n",
       "      <td>$16,007,000</td>\n",
       "      <td>7.00%</td>\n",
       "    </tr>\n",
       "    <tr>\n",
       "      <th>2</th>\n",
       "      <td>2024</td>\n",
       "      <td>27</td>\n",
       "      <td>$37,000,000</td>\n",
       "      <td>$13,007,000</td>\n",
       "      <td>$0</td>\n",
       "      <td>$850,000</td>\n",
       "      <td>$1,000,000</td>\n",
       "      <td>$35,300,000</td>\n",
       "      <td>$51,857,000</td>\n",
       "      <td>20.30%</td>\n",
       "    </tr>\n",
       "    <tr>\n",
       "      <th>3</th>\n",
       "      <td>2025</td>\n",
       "      <td>28</td>\n",
       "      <td>$18,000,000</td>\n",
       "      <td>$13,007,000</td>\n",
       "      <td>$11,900,000</td>\n",
       "      <td>$850,000</td>\n",
       "      <td>$1,857,500</td>\n",
       "      <td>$0</td>\n",
       "      <td>$45,614,500</td>\n",
       "      <td>16.20%</td>\n",
       "    </tr>\n",
       "    <tr>\n",
       "      <th>4</th>\n",
       "      <td>2026</td>\n",
       "      <td>29</td>\n",
       "      <td>$22,835,000</td>\n",
       "      <td>$13,007,000</td>\n",
       "      <td>$17,000,000</td>\n",
       "      <td>$850,000</td>\n",
       "      <td>$1,857,500</td>\n",
       "      <td>$0</td>\n",
       "      <td>$55,549,500</td>\n",
       "      <td>18.00%</td>\n",
       "    </tr>\n",
       "    <tr>\n",
       "      <th>5</th>\n",
       "      <td>2027</td>\n",
       "      <td>30</td>\n",
       "      <td>$19,500,000</td>\n",
       "      <td>$7,200,000</td>\n",
       "      <td>$14,185,000</td>\n",
       "      <td>$850,000</td>\n",
       "      <td>$1,800,000</td>\n",
       "      <td>$0</td>\n",
       "      <td>$43,535,000</td>\n",
       "      <td>--</td>\n",
       "    </tr>\n",
       "    <tr>\n",
       "      <th>6</th>\n",
       "      <td>2028</td>\n",
       "      <td>31</td>\n",
       "      <td>$34,007,360</td>\n",
       "      <td>$0</td>\n",
       "      <td>$9,700,000</td>\n",
       "      <td>$850,000</td>\n",
       "      <td>$1,800,000</td>\n",
       "      <td>$0</td>\n",
       "      <td>$46,357,360</td>\n",
       "      <td>--</td>\n",
       "    </tr>\n",
       "  </tbody>\n",
       "</table>\n",
       "</div>"
      ],
      "text/plain": [
       "   Year  Age  Base Salary Prorated Bonus Roster Bonus Per Game Roster Bonus  \\\n",
       "0  2022   25     $965,000    $11,704,481           $0                    $0   \n",
       "1  2023   26   $2,000,000    $13,007,000           $0                    $0   \n",
       "2  2024   27  $37,000,000    $13,007,000           $0              $850,000   \n",
       "3  2025   28  $18,000,000    $13,007,000  $11,900,000              $850,000   \n",
       "4  2026   29  $22,835,000    $13,007,000  $17,000,000              $850,000   \n",
       "5  2027   30  $19,500,000     $7,200,000  $14,185,000              $850,000   \n",
       "6  2028   31  $34,007,360             $0   $9,700,000              $850,000   \n",
       "\n",
       "  Workout Bonus Guaranteed Salary   Cap Number   Cap %  \n",
       "0            $0          $965,000  $12,669,481   6.10%  \n",
       "1    $1,000,000        $2,000,000  $16,007,000   7.00%  \n",
       "2    $1,000,000       $35,300,000  $51,857,000  20.30%  \n",
       "3    $1,857,500                $0  $45,614,500  16.20%  \n",
       "4    $1,857,500                $0  $55,549,500  18.00%  \n",
       "5    $1,800,000                $0  $43,535,000      --  \n",
       "6    $1,800,000                $0  $46,357,360      --  "
      ]
     },
     "execution_count": 31,
     "metadata": {},
     "output_type": "execute_result"
    }
   ],
   "source": [
    "df = pd.read_csv(\"Kyler Murray.csv\")\n",
    "df"
   ]
  },
  {
   "cell_type": "markdown",
   "metadata": {},
   "source": [
    "As you can see Murray has a more complicated contract than the example previously discussed with some guaranteed base salary and multiple types of bonuses. "
   ]
  },
  {
   "cell_type": "code",
   "execution_count": 51,
   "metadata": {},
   "outputs": [
    {
     "data": {
      "text/html": [
       "<div>\n",
       "<style scoped>\n",
       "    .dataframe tbody tr th:only-of-type {\n",
       "        vertical-align: middle;\n",
       "    }\n",
       "\n",
       "    .dataframe tbody tr th {\n",
       "        vertical-align: top;\n",
       "    }\n",
       "\n",
       "    .dataframe thead th {\n",
       "        text-align: right;\n",
       "    }\n",
       "</style>\n",
       "<table border=\"1\" class=\"dataframe\">\n",
       "  <thead>\n",
       "    <tr style=\"text-align: right;\">\n",
       "      <th></th>\n",
       "      <th>Year</th>\n",
       "      <th>Age</th>\n",
       "      <th>Base Salary</th>\n",
       "      <th>Prorated Bonus</th>\n",
       "      <th>Roster Bonus</th>\n",
       "      <th>Per Game Roster Bonus</th>\n",
       "      <th>Workout Bonus</th>\n",
       "      <th>Guaranteed Salary</th>\n",
       "      <th>Cap Number</th>\n",
       "      <th>Cap %</th>\n",
       "    </tr>\n",
       "  </thead>\n",
       "  <tbody>\n",
       "    <tr>\n",
       "      <th>0</th>\n",
       "      <td>2022</td>\n",
       "      <td>25</td>\n",
       "      <td>965000</td>\n",
       "      <td>11704481</td>\n",
       "      <td>0</td>\n",
       "      <td>0</td>\n",
       "      <td>0</td>\n",
       "      <td>965000</td>\n",
       "      <td>12669481</td>\n",
       "      <td>6.10%</td>\n",
       "    </tr>\n",
       "    <tr>\n",
       "      <th>1</th>\n",
       "      <td>2023</td>\n",
       "      <td>26</td>\n",
       "      <td>2000000</td>\n",
       "      <td>13007000</td>\n",
       "      <td>0</td>\n",
       "      <td>0</td>\n",
       "      <td>1000000</td>\n",
       "      <td>2000000</td>\n",
       "      <td>16007000</td>\n",
       "      <td>7.00%</td>\n",
       "    </tr>\n",
       "    <tr>\n",
       "      <th>2</th>\n",
       "      <td>2024</td>\n",
       "      <td>27</td>\n",
       "      <td>37000000</td>\n",
       "      <td>13007000</td>\n",
       "      <td>0</td>\n",
       "      <td>850000</td>\n",
       "      <td>1000000</td>\n",
       "      <td>35300000</td>\n",
       "      <td>51857000</td>\n",
       "      <td>20.30%</td>\n",
       "    </tr>\n",
       "    <tr>\n",
       "      <th>3</th>\n",
       "      <td>2025</td>\n",
       "      <td>28</td>\n",
       "      <td>18000000</td>\n",
       "      <td>13007000</td>\n",
       "      <td>11900000</td>\n",
       "      <td>850000</td>\n",
       "      <td>1857500</td>\n",
       "      <td>0</td>\n",
       "      <td>45614500</td>\n",
       "      <td>16.20%</td>\n",
       "    </tr>\n",
       "    <tr>\n",
       "      <th>4</th>\n",
       "      <td>2026</td>\n",
       "      <td>29</td>\n",
       "      <td>22835000</td>\n",
       "      <td>13007000</td>\n",
       "      <td>17000000</td>\n",
       "      <td>850000</td>\n",
       "      <td>1857500</td>\n",
       "      <td>0</td>\n",
       "      <td>55549500</td>\n",
       "      <td>18.00%</td>\n",
       "    </tr>\n",
       "    <tr>\n",
       "      <th>5</th>\n",
       "      <td>2027</td>\n",
       "      <td>30</td>\n",
       "      <td>19500000</td>\n",
       "      <td>7200000</td>\n",
       "      <td>14185000</td>\n",
       "      <td>850000</td>\n",
       "      <td>1800000</td>\n",
       "      <td>0</td>\n",
       "      <td>43535000</td>\n",
       "      <td>--</td>\n",
       "    </tr>\n",
       "    <tr>\n",
       "      <th>6</th>\n",
       "      <td>2028</td>\n",
       "      <td>31</td>\n",
       "      <td>34007360</td>\n",
       "      <td>0</td>\n",
       "      <td>9700000</td>\n",
       "      <td>850000</td>\n",
       "      <td>1800000</td>\n",
       "      <td>0</td>\n",
       "      <td>46357360</td>\n",
       "      <td>--</td>\n",
       "    </tr>\n",
       "  </tbody>\n",
       "</table>\n",
       "</div>"
      ],
      "text/plain": [
       "   Year  Age  Base Salary  Prorated Bonus  Roster Bonus  \\\n",
       "0  2022   25       965000        11704481             0   \n",
       "1  2023   26      2000000        13007000             0   \n",
       "2  2024   27     37000000        13007000             0   \n",
       "3  2025   28     18000000        13007000      11900000   \n",
       "4  2026   29     22835000        13007000      17000000   \n",
       "5  2027   30     19500000         7200000      14185000   \n",
       "6  2028   31     34007360               0       9700000   \n",
       "\n",
       "   Per Game Roster Bonus  Workout Bonus  Guaranteed Salary  Cap Number   Cap %  \n",
       "0                      0              0             965000    12669481   6.10%  \n",
       "1                      0        1000000            2000000    16007000   7.00%  \n",
       "2                 850000        1000000           35300000    51857000  20.30%  \n",
       "3                 850000        1857500                  0    45614500  16.20%  \n",
       "4                 850000        1857500                  0    55549500  18.00%  \n",
       "5                 850000        1800000                  0    43535000      --  \n",
       "6                 850000        1800000                  0    46357360      --  "
      ]
     },
     "execution_count": 51,
     "metadata": {},
     "output_type": "execute_result"
    }
   ],
   "source": [
    "cols = ['Base Salary', 'Prorated Bonus', 'Roster Bonus', 'Per Game Roster Bonus', 'Workout Bonus', 'Guaranteed Salary', 'Cap Number']\n",
    "df[cols] = df[cols].replace('\\$','', regex = True)\n",
    "df[cols] = df[cols].replace(',','', regex = True)\n",
    "df[cols] = df[cols].astype('int')\n",
    "df"
   ]
  },
  {
   "cell_type": "markdown",
   "metadata": {},
   "source": [
    "Murray has several years of the contract still to go and significant amounts of guaranteed money left. There are further guarantees that kick in on specific dates if Kyler is still on the roster, more details on these can be found on the website: https://overthecap.com/player/kyler-murray/7792\n",
    "\n",
    "Despite the fact that there is a lot of money left on the contract, will the Cardinals try and trade Murray next year? Arizona has a good chance of getting the number 1 pick in the draft according to oddsmakers and they may want to move on to a new quarterback. Lets see what trading Kyler in 2024 would do to the Cardinals cap number."
   ]
  },
  {
   "cell_type": "code",
   "execution_count": 52,
   "metadata": {},
   "outputs": [
    {
     "data": {
      "text/html": [
       "<div>\n",
       "<style scoped>\n",
       "    .dataframe tbody tr th:only-of-type {\n",
       "        vertical-align: middle;\n",
       "    }\n",
       "\n",
       "    .dataframe tbody tr th {\n",
       "        vertical-align: top;\n",
       "    }\n",
       "\n",
       "    .dataframe thead th {\n",
       "        text-align: right;\n",
       "    }\n",
       "</style>\n",
       "<table border=\"1\" class=\"dataframe\">\n",
       "  <thead>\n",
       "    <tr style=\"text-align: right;\">\n",
       "      <th></th>\n",
       "      <th>Year</th>\n",
       "      <th>Cap Number</th>\n",
       "    </tr>\n",
       "  </thead>\n",
       "  <tbody>\n",
       "    <tr>\n",
       "      <th>0</th>\n",
       "      <td>2022</td>\n",
       "      <td>12669481</td>\n",
       "    </tr>\n",
       "    <tr>\n",
       "      <th>1</th>\n",
       "      <td>2023</td>\n",
       "      <td>16007000</td>\n",
       "    </tr>\n",
       "    <tr>\n",
       "      <th>2</th>\n",
       "      <td>2024</td>\n",
       "      <td>46221000</td>\n",
       "    </tr>\n",
       "    <tr>\n",
       "      <th>3</th>\n",
       "      <td>2025</td>\n",
       "      <td>0</td>\n",
       "    </tr>\n",
       "    <tr>\n",
       "      <th>4</th>\n",
       "      <td>2026</td>\n",
       "      <td>0</td>\n",
       "    </tr>\n",
       "    <tr>\n",
       "      <th>5</th>\n",
       "      <td>2027</td>\n",
       "      <td>0</td>\n",
       "    </tr>\n",
       "    <tr>\n",
       "      <th>6</th>\n",
       "      <td>2028</td>\n",
       "      <td>0</td>\n",
       "    </tr>\n",
       "  </tbody>\n",
       "</table>\n",
       "</div>"
      ],
      "text/plain": [
       "   Year  Cap Number\n",
       "0  2022    12669481\n",
       "1  2023    16007000\n",
       "2  2024    46221000\n",
       "3  2025           0\n",
       "4  2026           0\n",
       "5  2027           0\n",
       "6  2028           0"
      ]
     },
     "execution_count": 52,
     "metadata": {},
     "output_type": "execute_result"
    }
   ],
   "source": [
    "df1 = pd.DataFrame(list(zip(list(df['Year']),list(df['Cap Number']))), columns = ['Year', 'Cap Number'])\n",
    "df1['Cap Number'][2:] = [(13007000*3+7200000),0,0,0,0]\n",
    "df1"
   ]
  },
  {
   "cell_type": "markdown",
   "metadata": {},
   "source": [
    "In the above example, the Cardinals trade Kyler before 1st June, the base salary therefore transfers to the new team and the prorated bonus that remains accelerates onto the cap for 2024, this leads to a very large dead money hit for 2024. In the below example, Kyler is traded post June 1st 2024:"
   ]
  },
  {
   "cell_type": "code",
   "execution_count": 53,
   "metadata": {},
   "outputs": [
    {
     "data": {
      "text/html": [
       "<div>\n",
       "<style scoped>\n",
       "    .dataframe tbody tr th:only-of-type {\n",
       "        vertical-align: middle;\n",
       "    }\n",
       "\n",
       "    .dataframe tbody tr th {\n",
       "        vertical-align: top;\n",
       "    }\n",
       "\n",
       "    .dataframe thead th {\n",
       "        text-align: right;\n",
       "    }\n",
       "</style>\n",
       "<table border=\"1\" class=\"dataframe\">\n",
       "  <thead>\n",
       "    <tr style=\"text-align: right;\">\n",
       "      <th></th>\n",
       "      <th>Year</th>\n",
       "      <th>Cap Number</th>\n",
       "    </tr>\n",
       "  </thead>\n",
       "  <tbody>\n",
       "    <tr>\n",
       "      <th>0</th>\n",
       "      <td>2022</td>\n",
       "      <td>12669481</td>\n",
       "    </tr>\n",
       "    <tr>\n",
       "      <th>1</th>\n",
       "      <td>2023</td>\n",
       "      <td>16007000</td>\n",
       "    </tr>\n",
       "    <tr>\n",
       "      <th>2</th>\n",
       "      <td>2024</td>\n",
       "      <td>13007000</td>\n",
       "    </tr>\n",
       "    <tr>\n",
       "      <th>3</th>\n",
       "      <td>2025</td>\n",
       "      <td>33214000</td>\n",
       "    </tr>\n",
       "    <tr>\n",
       "      <th>4</th>\n",
       "      <td>2026</td>\n",
       "      <td>0</td>\n",
       "    </tr>\n",
       "    <tr>\n",
       "      <th>5</th>\n",
       "      <td>2027</td>\n",
       "      <td>0</td>\n",
       "    </tr>\n",
       "    <tr>\n",
       "      <th>6</th>\n",
       "      <td>2028</td>\n",
       "      <td>0</td>\n",
       "    </tr>\n",
       "  </tbody>\n",
       "</table>\n",
       "</div>"
      ],
      "text/plain": [
       "   Year  Cap Number\n",
       "0  2022    12669481\n",
       "1  2023    16007000\n",
       "2  2024    13007000\n",
       "3  2025    33214000\n",
       "4  2026           0\n",
       "5  2027           0\n",
       "6  2028           0"
      ]
     },
     "execution_count": 53,
     "metadata": {},
     "output_type": "execute_result"
    }
   ],
   "source": [
    "df1['Cap Number'][2:] = [13007000,(13007000*2+7200000),0,0,0]\n",
    "df1"
   ]
  },
  {
   "cell_type": "markdown",
   "metadata": {},
   "source": [
    "In either example there are significant cap hits from the trade, these grow even more dramatic if Kyler were to be cut as the guaranteed elements of the salary accelerate onto the cap. The below is a 2024 pre-June 1st cut:"
   ]
  },
  {
   "cell_type": "code",
   "execution_count": 55,
   "metadata": {},
   "outputs": [
    {
     "data": {
      "text/html": [
       "<div>\n",
       "<style scoped>\n",
       "    .dataframe tbody tr th:only-of-type {\n",
       "        vertical-align: middle;\n",
       "    }\n",
       "\n",
       "    .dataframe tbody tr th {\n",
       "        vertical-align: top;\n",
       "    }\n",
       "\n",
       "    .dataframe thead th {\n",
       "        text-align: right;\n",
       "    }\n",
       "</style>\n",
       "<table border=\"1\" class=\"dataframe\">\n",
       "  <thead>\n",
       "    <tr style=\"text-align: right;\">\n",
       "      <th></th>\n",
       "      <th>Year</th>\n",
       "      <th>Cap Number</th>\n",
       "    </tr>\n",
       "  </thead>\n",
       "  <tbody>\n",
       "    <tr>\n",
       "      <th>0</th>\n",
       "      <td>2022</td>\n",
       "      <td>12669481</td>\n",
       "    </tr>\n",
       "    <tr>\n",
       "      <th>1</th>\n",
       "      <td>2023</td>\n",
       "      <td>16007000</td>\n",
       "    </tr>\n",
       "    <tr>\n",
       "      <th>2</th>\n",
       "      <td>2024</td>\n",
       "      <td>81521000</td>\n",
       "    </tr>\n",
       "    <tr>\n",
       "      <th>3</th>\n",
       "      <td>2025</td>\n",
       "      <td>0</td>\n",
       "    </tr>\n",
       "    <tr>\n",
       "      <th>4</th>\n",
       "      <td>2026</td>\n",
       "      <td>0</td>\n",
       "    </tr>\n",
       "    <tr>\n",
       "      <th>5</th>\n",
       "      <td>2027</td>\n",
       "      <td>0</td>\n",
       "    </tr>\n",
       "    <tr>\n",
       "      <th>6</th>\n",
       "      <td>2028</td>\n",
       "      <td>0</td>\n",
       "    </tr>\n",
       "  </tbody>\n",
       "</table>\n",
       "</div>"
      ],
      "text/plain": [
       "   Year  Cap Number\n",
       "0  2022    12669481\n",
       "1  2023    16007000\n",
       "2  2024    81521000\n",
       "3  2025           0\n",
       "4  2026           0\n",
       "5  2027           0\n",
       "6  2028           0"
      ]
     },
     "execution_count": 55,
     "metadata": {},
     "output_type": "execute_result"
    }
   ],
   "source": [
    "df1['Cap Number'][2:] = [(35300000+13007000*3+7200000),0,0,0,0]\n",
    "df1"
   ]
  },
  {
   "cell_type": "markdown",
   "metadata": {},
   "source": [
    "And the below is a 2024 post-June 1st cut:"
   ]
  },
  {
   "cell_type": "code",
   "execution_count": 56,
   "metadata": {},
   "outputs": [
    {
     "data": {
      "text/html": [
       "<div>\n",
       "<style scoped>\n",
       "    .dataframe tbody tr th:only-of-type {\n",
       "        vertical-align: middle;\n",
       "    }\n",
       "\n",
       "    .dataframe tbody tr th {\n",
       "        vertical-align: top;\n",
       "    }\n",
       "\n",
       "    .dataframe thead th {\n",
       "        text-align: right;\n",
       "    }\n",
       "</style>\n",
       "<table border=\"1\" class=\"dataframe\">\n",
       "  <thead>\n",
       "    <tr style=\"text-align: right;\">\n",
       "      <th></th>\n",
       "      <th>Year</th>\n",
       "      <th>Cap Number</th>\n",
       "    </tr>\n",
       "  </thead>\n",
       "  <tbody>\n",
       "    <tr>\n",
       "      <th>0</th>\n",
       "      <td>2022</td>\n",
       "      <td>12669481</td>\n",
       "    </tr>\n",
       "    <tr>\n",
       "      <th>1</th>\n",
       "      <td>2023</td>\n",
       "      <td>16007000</td>\n",
       "    </tr>\n",
       "    <tr>\n",
       "      <th>2</th>\n",
       "      <td>2024</td>\n",
       "      <td>48307000</td>\n",
       "    </tr>\n",
       "    <tr>\n",
       "      <th>3</th>\n",
       "      <td>2025</td>\n",
       "      <td>33214000</td>\n",
       "    </tr>\n",
       "    <tr>\n",
       "      <th>4</th>\n",
       "      <td>2026</td>\n",
       "      <td>0</td>\n",
       "    </tr>\n",
       "    <tr>\n",
       "      <th>5</th>\n",
       "      <td>2027</td>\n",
       "      <td>0</td>\n",
       "    </tr>\n",
       "    <tr>\n",
       "      <th>6</th>\n",
       "      <td>2028</td>\n",
       "      <td>0</td>\n",
       "    </tr>\n",
       "  </tbody>\n",
       "</table>\n",
       "</div>"
      ],
      "text/plain": [
       "   Year  Cap Number\n",
       "0  2022    12669481\n",
       "1  2023    16007000\n",
       "2  2024    48307000\n",
       "3  2025    33214000\n",
       "4  2026           0\n",
       "5  2027           0\n",
       "6  2028           0"
      ]
     },
     "execution_count": 56,
     "metadata": {},
     "output_type": "execute_result"
    }
   ],
   "source": [
    "df1['Cap Number'][2:] = [(35300000+13007000),(13007000*2+7200000),0,0,0]\n",
    "df1"
   ]
  },
  {
   "cell_type": "markdown",
   "metadata": {},
   "source": [
    "The cap hits for a cut are massive in 2024, completely unworkable for a pre June 1st cut and still very difficult for a post June 1st cut. In my view neither are realistic as an option for the Cardinals, meaning that if Arizona want to take a new Quarterback in 2024 they would either trade Kyler (if they can find a suitable trade partner) or would hold onto him for the 2024 season, to either trade or cut in 2025 where the cap hits involved would be much smaller."
   ]
  },
  {
   "cell_type": "markdown",
   "metadata": {},
   "source": [
    "## Conclusions"
   ]
  },
  {
   "cell_type": "markdown",
   "metadata": {},
   "source": [
    "Hopefully this workbook has given you a good overview of how the NFL salary cap works with regard to contracts, cuts and trades. There are many other details to the NFL's salary cap not mentioned here such as only the top 51 salaries on a team counting against the cap and there are other ways of managing contracts such as void years which I have also not gone into. Despite this, the above should give you a solid grounding in how to NFL teams manage the salary cap. You can use the cap calculator on overthecap.com to see where teams may have upcoming issues and plot how they can manage the their contracts to overcome cap challenges."
   ]
  },
  {
   "cell_type": "code",
   "execution_count": null,
   "metadata": {},
   "outputs": [],
   "source": []
  }
 ],
 "metadata": {
  "kernelspec": {
   "display_name": "Python 3",
   "language": "python",
   "name": "python3"
  },
  "language_info": {
   "codemirror_mode": {
    "name": "ipython",
    "version": 3
   },
   "file_extension": ".py",
   "mimetype": "text/x-python",
   "name": "python",
   "nbconvert_exporter": "python",
   "pygments_lexer": "ipython3",
   "version": "3.7.6"
  }
 },
 "nbformat": 4,
 "nbformat_minor": 4
}
